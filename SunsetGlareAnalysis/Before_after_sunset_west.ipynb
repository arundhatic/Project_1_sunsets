{
 "cells": [
  {
   "cell_type": "code",
   "execution_count": 4,
   "metadata": {},
   "outputs": [],
   "source": [
    "import warnings\n",
    "warnings.filterwarnings('ignore')\n",
    "\n",
    "# Dependencies\n",
    "import pytz\n",
    "import datetime as dt\n",
    "from datetime import datetime, timedelta\n",
    "import dateparser\n",
    "import gmaps\n",
    "import numpy as np\n",
    "import pandas as pd\n",
    "import requests\n",
    "import time\n",
    "from pprint import pprint \n",
    "from scipy.stats import linregress\n",
    "import scipy.stats as stats\n",
    "from matplotlib import pyplot as plt\n",
    "import matplotlib.dates as mdates\n",
    "from suntime import Sun, SunTimeException\n",
    "import os\n",
    "import json\n",
    "import urllib.request\n"
   ]
  },
  {
   "cell_type": "code",
   "execution_count": 6,
   "metadata": {},
   "outputs": [
    {
     "data": {
      "text/html": [
       "<div>\n",
       "<style scoped>\n",
       "    .dataframe tbody tr th:only-of-type {\n",
       "        vertical-align: middle;\n",
       "    }\n",
       "\n",
       "    .dataframe tbody tr th {\n",
       "        vertical-align: top;\n",
       "    }\n",
       "\n",
       "    .dataframe thead th {\n",
       "        text-align: right;\n",
       "    }\n",
       "</style>\n",
       "<table border=\"1\" class=\"dataframe\">\n",
       "  <thead>\n",
       "    <tr style=\"text-align: right;\">\n",
       "      <th></th>\n",
       "      <th>index</th>\n",
       "      <th>State</th>\n",
       "      <th>Severity</th>\n",
       "      <th>Start_Time</th>\n",
       "      <th>End_Time</th>\n",
       "      <th>Start_Lat</th>\n",
       "      <th>Start_Lng</th>\n",
       "      <th>Distance(mi)</th>\n",
       "      <th>Description</th>\n",
       "      <th>Number</th>\n",
       "      <th>...</th>\n",
       "      <th>Traffic_Signal</th>\n",
       "      <th>Sunrise_Sunset</th>\n",
       "      <th>Civil_Twilight</th>\n",
       "      <th>Astronomical_Twilight</th>\n",
       "      <th>Direction</th>\n",
       "      <th>Accident_Date</th>\n",
       "      <th>Sunset_Time_UTC</th>\n",
       "      <th>Accident_Time</th>\n",
       "      <th>Sunset_Date_Time_Local</th>\n",
       "      <th>Sunset_Time_Local</th>\n",
       "    </tr>\n",
       "  </thead>\n",
       "  <tbody>\n",
       "    <tr>\n",
       "      <th>0</th>\n",
       "      <td>0</td>\n",
       "      <td>OH</td>\n",
       "      <td>3</td>\n",
       "      <td>2/8/16 5:46</td>\n",
       "      <td>2/8/16 11:00</td>\n",
       "      <td>39.865147</td>\n",
       "      <td>-84.058723</td>\n",
       "      <td>0.01</td>\n",
       "      <td>Right lane blocked due to accident on I-70 Eas...</td>\n",
       "      <td>NaN</td>\n",
       "      <td>...</td>\n",
       "      <td>False</td>\n",
       "      <td>Night</td>\n",
       "      <td>Night</td>\n",
       "      <td>Night</td>\n",
       "      <td>E</td>\n",
       "      <td>2016-02-08</td>\n",
       "      <td>2016-02-08 23:04</td>\n",
       "      <td>5:46</td>\n",
       "      <td>2016-02-08 18:04</td>\n",
       "      <td>18:04</td>\n",
       "    </tr>\n",
       "    <tr>\n",
       "      <th>1</th>\n",
       "      <td>3</td>\n",
       "      <td>OH</td>\n",
       "      <td>3</td>\n",
       "      <td>2/8/16 7:23</td>\n",
       "      <td>2/8/16 7:53</td>\n",
       "      <td>39.747753</td>\n",
       "      <td>-84.205582</td>\n",
       "      <td>0.01</td>\n",
       "      <td>Accident on I-75 Southbound at Exits 52 52B US...</td>\n",
       "      <td>NaN</td>\n",
       "      <td>...</td>\n",
       "      <td>False</td>\n",
       "      <td>Night</td>\n",
       "      <td>Day</td>\n",
       "      <td>Day</td>\n",
       "      <td>S</td>\n",
       "      <td>2016-02-08</td>\n",
       "      <td>2016-02-08 23:05</td>\n",
       "      <td>7:23</td>\n",
       "      <td>2016-02-08 18:05</td>\n",
       "      <td>18:05</td>\n",
       "    </tr>\n",
       "    <tr>\n",
       "      <th>2</th>\n",
       "      <td>11</td>\n",
       "      <td>OH</td>\n",
       "      <td>3</td>\n",
       "      <td>2/8/16 8:21</td>\n",
       "      <td>2/8/16 8:51</td>\n",
       "      <td>39.932709</td>\n",
       "      <td>-82.830910</td>\n",
       "      <td>0.01</td>\n",
       "      <td>One lane blocked due to accident on I-70 Westb...</td>\n",
       "      <td>NaN</td>\n",
       "      <td>...</td>\n",
       "      <td>False</td>\n",
       "      <td>Day</td>\n",
       "      <td>Day</td>\n",
       "      <td>Day</td>\n",
       "      <td>E</td>\n",
       "      <td>2016-02-08</td>\n",
       "      <td>2016-02-08 22:59</td>\n",
       "      <td>8:21</td>\n",
       "      <td>2016-02-08 17:59</td>\n",
       "      <td>17:59</td>\n",
       "    </tr>\n",
       "    <tr>\n",
       "      <th>3</th>\n",
       "      <td>49</td>\n",
       "      <td>OH</td>\n",
       "      <td>3</td>\n",
       "      <td>2/9/16 6:41</td>\n",
       "      <td>2/9/16 7:11</td>\n",
       "      <td>39.773193</td>\n",
       "      <td>-84.187454</td>\n",
       "      <td>0.01</td>\n",
       "      <td>Accident on I-75 Northbound at Exits 54A 54B O...</td>\n",
       "      <td>NaN</td>\n",
       "      <td>...</td>\n",
       "      <td>False</td>\n",
       "      <td>Night</td>\n",
       "      <td>Night</td>\n",
       "      <td>Day</td>\n",
       "      <td>S</td>\n",
       "      <td>2016-02-09</td>\n",
       "      <td>2016-02-09 23:06</td>\n",
       "      <td>6:41</td>\n",
       "      <td>2016-02-09 18:06</td>\n",
       "      <td>18:06</td>\n",
       "    </tr>\n",
       "    <tr>\n",
       "      <th>4</th>\n",
       "      <td>65</td>\n",
       "      <td>OH</td>\n",
       "      <td>3</td>\n",
       "      <td>2/9/16 8:23</td>\n",
       "      <td>2/9/16 8:53</td>\n",
       "      <td>39.622787</td>\n",
       "      <td>-84.229858</td>\n",
       "      <td>0.01</td>\n",
       "      <td>Accident on I-75 Southbound at I-675. Expect d...</td>\n",
       "      <td>NaN</td>\n",
       "      <td>...</td>\n",
       "      <td>False</td>\n",
       "      <td>Day</td>\n",
       "      <td>Day</td>\n",
       "      <td>Day</td>\n",
       "      <td>N</td>\n",
       "      <td>2016-02-09</td>\n",
       "      <td>2016-02-09 23:06</td>\n",
       "      <td>8:23</td>\n",
       "      <td>2016-02-09 18:06</td>\n",
       "      <td>18:06</td>\n",
       "    </tr>\n",
       "  </tbody>\n",
       "</table>\n",
       "<p>5 rows × 38 columns</p>\n",
       "</div>"
      ],
      "text/plain": [
       "   index State  Severity   Start_Time      End_Time  Start_Lat  Start_Lng  \\\n",
       "0      0    OH         3  2/8/16 5:46  2/8/16 11:00  39.865147 -84.058723   \n",
       "1      3    OH         3  2/8/16 7:23   2/8/16 7:53  39.747753 -84.205582   \n",
       "2     11    OH         3  2/8/16 8:21   2/8/16 8:51  39.932709 -82.830910   \n",
       "3     49    OH         3  2/9/16 6:41   2/9/16 7:11  39.773193 -84.187454   \n",
       "4     65    OH         3  2/9/16 8:23   2/9/16 8:53  39.622787 -84.229858   \n",
       "\n",
       "   Distance(mi)                                        Description  Number  \\\n",
       "0          0.01  Right lane blocked due to accident on I-70 Eas...     NaN   \n",
       "1          0.01  Accident on I-75 Southbound at Exits 52 52B US...     NaN   \n",
       "2          0.01  One lane blocked due to accident on I-70 Westb...     NaN   \n",
       "3          0.01  Accident on I-75 Northbound at Exits 54A 54B O...     NaN   \n",
       "4          0.01  Accident on I-75 Southbound at I-675. Expect d...     NaN   \n",
       "\n",
       "         ...         Traffic_Signal Sunrise_Sunset Civil_Twilight  \\\n",
       "0        ...                  False          Night          Night   \n",
       "1        ...                  False          Night            Day   \n",
       "2        ...                  False            Day            Day   \n",
       "3        ...                  False          Night          Night   \n",
       "4        ...                  False            Day            Day   \n",
       "\n",
       "  Astronomical_Twilight Direction Accident_Date   Sunset_Time_UTC  \\\n",
       "0                 Night         E    2016-02-08  2016-02-08 23:04   \n",
       "1                   Day         S    2016-02-08  2016-02-08 23:05   \n",
       "2                   Day         E    2016-02-08  2016-02-08 22:59   \n",
       "3                   Day         S    2016-02-09  2016-02-09 23:06   \n",
       "4                   Day         N    2016-02-09  2016-02-09 23:06   \n",
       "\n",
       "  Accident_Time Sunset_Date_Time_Local  Sunset_Time_Local  \n",
       "0          5:46       2016-02-08 18:04              18:04  \n",
       "1          7:23       2016-02-08 18:05              18:05  \n",
       "2          8:21       2016-02-08 17:59              17:59  \n",
       "3          6:41       2016-02-09 18:06              18:06  \n",
       "4          8:23       2016-02-09 18:06              18:06  \n",
       "\n",
       "[5 rows x 38 columns]"
      ]
     },
     "execution_count": 6,
     "metadata": {},
     "output_type": "execute_result"
    }
   ],
   "source": [
    "data_from_arun =\"/Users/Grant/Desktop/hwy_df.csv\"\n",
    "hwy_df = pd.read_csv(\n",
    "    data_from_arun)\n",
    "\n",
    "# Visualize\n",
    "\n",
    "hwy_df.head()"
   ]
  },
  {
   "cell_type": "code",
   "execution_count": 7,
   "metadata": {},
   "outputs": [],
   "source": [
    "hwy_df['upper_limit'] = pd.DatetimeIndex(hwy_df['Sunset_Time_Local']) + timedelta(hours=2,minutes=0)\n",
    "hwy_df['upper_limit']=hwy_df['upper_limit'].dt.time"
   ]
  },
  {
   "cell_type": "code",
   "execution_count": 8,
   "metadata": {},
   "outputs": [],
   "source": [
    "hwy_df['lower_limit'] = pd.DatetimeIndex(hwy_df['Sunset_Time_Local']) + timedelta(hours=-2,minutes=0)\n",
    "hwy_df['lower_limit'] = hwy_df['lower_limit'].dt.time"
   ]
  },
  {
   "cell_type": "code",
   "execution_count": 9,
   "metadata": {},
   "outputs": [],
   "source": [
    "#Convert sunset_time string to a datetime object\n",
    "hwy_df['Sunset_Time_Local_dt']= pd.to_datetime(hwy_df['Sunset_Time_Local'],format= '%H:%M' ).dt.time"
   ]
  },
  {
   "cell_type": "code",
   "execution_count": 10,
   "metadata": {},
   "outputs": [],
   "source": [
    "#Convert accident_time string to a datetime object\n",
    "hwy_df['Accident_Time_dt']= pd.to_datetime(hwy_df['Accident_Time'],format= '%H:%M' ).dt.time"
   ]
  },
  {
   "cell_type": "code",
   "execution_count": 11,
   "metadata": {},
   "outputs": [],
   "source": [
    "hwy_west=hwy_df[hwy_df['Direction']=='W']"
   ]
  },
  {
   "cell_type": "code",
   "execution_count": 12,
   "metadata": {},
   "outputs": [],
   "source": [
    "#Check if Accident Time is within the +- 2 hour window from sunset\n",
    "hwy_west['In_Window']= np.logical_and(hwy_west['lower_limit'] < hwy_west['Accident_Time_dt'], hwy_west['upper_limit'] > hwy_west['Accident_Time_dt'])\n"
   ]
  },
  {
   "cell_type": "code",
   "execution_count": 13,
   "metadata": {},
   "outputs": [],
   "source": [
    "hwy_west=hwy_west.reset_index(drop =True)"
   ]
  },
  {
   "cell_type": "code",
   "execution_count": 14,
   "metadata": {},
   "outputs": [
    {
     "data": {
      "text/plain": [
       "datetime.time"
      ]
     },
     "execution_count": 14,
     "metadata": {},
     "output_type": "execute_result"
    }
   ],
   "source": [
    "type(hwy_west['Sunset_Time_Local_dt'][1])"
   ]
  },
  {
   "cell_type": "code",
   "execution_count": 15,
   "metadata": {},
   "outputs": [
    {
     "data": {
      "text/plain": [
       "str"
      ]
     },
     "execution_count": 15,
     "metadata": {},
     "output_type": "execute_result"
    }
   ],
   "source": [
    "type(hwy_west['Sunset_Time_Local'][1])"
   ]
  },
  {
   "cell_type": "code",
   "execution_count": 16,
   "metadata": {},
   "outputs": [],
   "source": [
    "import datetime"
   ]
  },
  {
   "cell_type": "code",
   "execution_count": 17,
   "metadata": {},
   "outputs": [],
   "source": [
    "time_delt=[]\n",
    "\n",
    "datetimeFormat = '%H:%M'\n",
    "\n",
    "for index in hwy_west.index:\n",
    "    date1 = hwy_west['Sunset_Time_Local'][index]\n",
    "    date2 = hwy_west['Accident_Time'][index]\n",
    "    diff = datetime.datetime.strptime(date2, datetimeFormat) - datetime.datetime.strptime(date1, datetimeFormat)\n",
    "    diff2=(diff.total_seconds())/60\n",
    "    time_delt.append(diff2)\n",
    "\n",
    "hwy_west['Time Delta']=time_delt"
   ]
  },
  {
   "cell_type": "code",
   "execution_count": 18,
   "metadata": {},
   "outputs": [],
   "source": [
    "sunset_df=hwy_west[hwy_west['In_Window']==True]"
   ]
  },
  {
   "cell_type": "code",
   "execution_count": 19,
   "metadata": {},
   "outputs": [
    {
     "data": {
      "text/html": [
       "<div>\n",
       "<style scoped>\n",
       "    .dataframe tbody tr th:only-of-type {\n",
       "        vertical-align: middle;\n",
       "    }\n",
       "\n",
       "    .dataframe tbody tr th {\n",
       "        vertical-align: top;\n",
       "    }\n",
       "\n",
       "    .dataframe thead th {\n",
       "        text-align: right;\n",
       "    }\n",
       "</style>\n",
       "<table border=\"1\" class=\"dataframe\">\n",
       "  <thead>\n",
       "    <tr style=\"text-align: right;\">\n",
       "      <th></th>\n",
       "      <th>index</th>\n",
       "      <th>State</th>\n",
       "      <th>Severity</th>\n",
       "      <th>Start_Time</th>\n",
       "      <th>End_Time</th>\n",
       "      <th>Start_Lat</th>\n",
       "      <th>Start_Lng</th>\n",
       "      <th>Distance(mi)</th>\n",
       "      <th>Description</th>\n",
       "      <th>Number</th>\n",
       "      <th>...</th>\n",
       "      <th>Sunset_Time_UTC</th>\n",
       "      <th>Accident_Time</th>\n",
       "      <th>Sunset_Date_Time_Local</th>\n",
       "      <th>Sunset_Time_Local</th>\n",
       "      <th>upper_limit</th>\n",
       "      <th>lower_limit</th>\n",
       "      <th>Sunset_Time_Local_dt</th>\n",
       "      <th>Accident_Time_dt</th>\n",
       "      <th>In_Window</th>\n",
       "      <th>Time Delta</th>\n",
       "    </tr>\n",
       "  </thead>\n",
       "  <tbody>\n",
       "    <tr>\n",
       "      <th>14</th>\n",
       "      <td>810</td>\n",
       "      <td>CA</td>\n",
       "      <td>3</td>\n",
       "      <td>6/21/16 20:03</td>\n",
       "      <td>6/21/16 20:48</td>\n",
       "      <td>37.766987</td>\n",
       "      <td>-121.335495</td>\n",
       "      <td>0.0</td>\n",
       "      <td>Two lanes blocked due to accident on I-205 Wes...</td>\n",
       "      <td>NaN</td>\n",
       "      <td>...</td>\n",
       "      <td>2016-06-21 03:31</td>\n",
       "      <td>20:03</td>\n",
       "      <td>2016-06-20 20:31</td>\n",
       "      <td>20:31</td>\n",
       "      <td>22:31:00</td>\n",
       "      <td>18:31:00</td>\n",
       "      <td>20:31:00</td>\n",
       "      <td>20:03:00</td>\n",
       "      <td>True</td>\n",
       "      <td>-28.0</td>\n",
       "    </tr>\n",
       "    <tr>\n",
       "      <th>20</th>\n",
       "      <td>931</td>\n",
       "      <td>CA</td>\n",
       "      <td>3</td>\n",
       "      <td>6/22/16 18:45</td>\n",
       "      <td>6/22/16 19:15</td>\n",
       "      <td>37.830669</td>\n",
       "      <td>-122.293343</td>\n",
       "      <td>0.0</td>\n",
       "      <td>Accident on I-80 I-580 Westbound at Exit 19A I...</td>\n",
       "      <td>NaN</td>\n",
       "      <td>...</td>\n",
       "      <td>2016-06-22 03:35</td>\n",
       "      <td>18:45</td>\n",
       "      <td>2016-06-21 20:35</td>\n",
       "      <td>20:35</td>\n",
       "      <td>22:35:00</td>\n",
       "      <td>18:35:00</td>\n",
       "      <td>20:35:00</td>\n",
       "      <td>18:45:00</td>\n",
       "      <td>True</td>\n",
       "      <td>-110.0</td>\n",
       "    </tr>\n",
       "  </tbody>\n",
       "</table>\n",
       "<p>2 rows × 44 columns</p>\n",
       "</div>"
      ],
      "text/plain": [
       "    index State  Severity     Start_Time       End_Time  Start_Lat  \\\n",
       "14    810    CA         3  6/21/16 20:03  6/21/16 20:48  37.766987   \n",
       "20    931    CA         3  6/22/16 18:45  6/22/16 19:15  37.830669   \n",
       "\n",
       "     Start_Lng  Distance(mi)  \\\n",
       "14 -121.335495           0.0   \n",
       "20 -122.293343           0.0   \n",
       "\n",
       "                                          Description  Number     ...      \\\n",
       "14  Two lanes blocked due to accident on I-205 Wes...     NaN     ...       \n",
       "20  Accident on I-80 I-580 Westbound at Exit 19A I...     NaN     ...       \n",
       "\n",
       "     Sunset_Time_UTC Accident_Time Sunset_Date_Time_Local Sunset_Time_Local  \\\n",
       "14  2016-06-21 03:31         20:03       2016-06-20 20:31             20:31   \n",
       "20  2016-06-22 03:35         18:45       2016-06-21 20:35             20:35   \n",
       "\n",
       "   upper_limit lower_limit Sunset_Time_Local_dt Accident_Time_dt In_Window  \\\n",
       "14    22:31:00    18:31:00             20:31:00         20:03:00      True   \n",
       "20    22:35:00    18:35:00             20:35:00         18:45:00      True   \n",
       "\n",
       "    Time Delta  \n",
       "14       -28.0  \n",
       "20      -110.0  \n",
       "\n",
       "[2 rows x 44 columns]"
      ]
     },
     "execution_count": 19,
     "metadata": {},
     "output_type": "execute_result"
    }
   ],
   "source": [
    "sunset_df.head(2)"
   ]
  },
  {
   "cell_type": "code",
   "execution_count": 20,
   "metadata": {},
   "outputs": [],
   "source": [
    "bins = [-120, -80, -40, 0, 40, 80, 120]"
   ]
  },
  {
   "cell_type": "code",
   "execution_count": 21,
   "metadata": {},
   "outputs": [
    {
     "data": {
      "text/plain": [
       "array([-120, -100,  -80,  -60,  -40,  -20,    0,   20,   40,   60,   80,\n",
       "        100,  120])"
      ]
     },
     "execution_count": 21,
     "metadata": {},
     "output_type": "execute_result"
    }
   ],
   "source": [
    "np.arange(-120,135,20)"
   ]
  },
  {
   "cell_type": "code",
   "execution_count": 22,
   "metadata": {},
   "outputs": [],
   "source": [
    "group_names=['120-80min before Sunset', '80-40min before Sunset', '40-0min before Sunset', \\\n",
    "            '0-40min after Sunset', '40-80min after Sunset', '80-120min after Sunset']"
   ]
  },
  {
   "cell_type": "code",
   "execution_count": 23,
   "metadata": {},
   "outputs": [],
   "source": [
    "sunset_df['Time_From_Sunset_Bin']=pd.cut(sunset_df[\"Time Delta\"], bins, labels=group_names)\n"
   ]
  },
  {
   "cell_type": "code",
   "execution_count": 44,
   "metadata": {},
   "outputs": [
    {
     "data": {
      "text/plain": [
       "120-100min before Sunset    830\n",
       "100-80min before Sunset     816\n",
       "80-60min before Sunset      806\n",
       "60-40min before Sunset      803\n",
       "40-20min before Sunset      737\n",
       "20-0min before Sunset       676\n",
       "40-60min after Sunset       672\n",
       "20-40min after Sunset       669\n",
       "0-20min after Sunset        644\n",
       "60-80min after Sunset       566\n",
       "80-100min after Sunset      527\n",
       "100-120min after Sunset     478\n",
       "Name: Time_From_Sunset_Bin, dtype: int64"
      ]
     },
     "execution_count": 44,
     "metadata": {},
     "output_type": "execute_result"
    }
   ],
   "source": [
    "sunset_df['Time_From_Sunset_Bin'].value_counts()"
   ]
  },
  {
   "cell_type": "code",
   "execution_count": 24,
   "metadata": {},
   "outputs": [
    {
     "data": {
      "image/png": "[encoded data removed]",
      "text/plain": [
       "<matplotlib.figure.Figure at 0x109f80940>"
      ]
     },
     "metadata": {},
     "output_type": "display_data"
    }
   ],
   "source": [
    "fig, ax = plt.subplots(figsize=(16,8))\n",
    "sunset_df['Time_From_Sunset_Bin'].value_counts().plot.bar(width=0.5,edgecolor='k',align='center',linewidth=2)\n",
    "plt.xlabel('Time from Sunset',fontsize=20)\n",
    "plt.ylabel('Number of Accidents',fontsize=20)\n",
    "ax.tick_params(labelsize=20)\n",
    "plt.title('Westbound Accidents before and after Sunset',fontsize=25)\n",
    "plt.xticks(rotation=70)\n",
    "\n",
    "plt.show()"
   ]
  },
  {
   "cell_type": "code",
   "execution_count": null,
   "metadata": {},
   "outputs": [],
   "source": []
  }
 ],
 "metadata": {
  "kernelspec": {
   "display_name": "Python 3",
   "language": "python",
   "name": "python3"
  },
  "language_info": {
   "codemirror_mode": {
    "name": "ipython",
    "version": 3
   },
   "file_extension": ".py",
   "mimetype": "text/x-python",
   "name": "python",
   "nbconvert_exporter": "python",
   "pygments_lexer": "ipython3",
   "version": "3.6.3"
  }
 },
 "nbformat": 4,
 "nbformat_minor": 2
}
